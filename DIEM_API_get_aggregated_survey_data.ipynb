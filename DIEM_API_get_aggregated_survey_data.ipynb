{
 "cells": [
  {
   "cell_type": "code",
   "execution_count": 5,
   "metadata": {},
   "outputs": [],
   "source": [
    "from arcgis.gis import GIS\n",
    "import os\n",
    "import datetime"
   ]
  },
  {
   "cell_type": "code",
   "execution_count": 6,
   "metadata": {},
   "outputs": [],
   "source": [
    "###USER DEFINED PARAMETERS\n",
    "\n",
    "# Login parameters\n",
    "output_location = r'C:\\temp'  # Location where outputs will be saved\n",
    "USERNAME = ''  # Your DIEM username\n",
    "PASS = ''  # Your password\n",
    "\n",
    "# Survey parameters\n",
    "iso3 = ''  # ISO3 3-letters code of the country - leave empty for all countries. \n",
    "round = ''  # DIEM survey round number (integer - leave empty for all rounds)\n",
    "\n",
    "# Download parameters\n",
    "return_geometry_in_aggregated_data = False  # Include geometry in aggregated data\n",
    "geometry_export_format = 'File Geodatabase'  # Export format: Shapefile, CSV, File Geodatabase, etc."
   ]
  },
  {
   "cell_type": "code",
   "execution_count": 7,
   "metadata": {},
   "outputs": [],
   "source": [
    "# Get the current date and time\n",
    "current_datetime = datetime.datetime.now()\n",
    "# Format the date and time as YYYYMMDDhhmmss\n",
    "formatted_datetime = current_datetime.strftime(\"%Y%m%d%H%M%S\")\n",
    "\n",
    "# Initialize the where clause\n",
    "where_clause = \"\"\n",
    "\n",
    "# Build the where clause based on conditions\n",
    "if iso3 and round:\n",
    "    where_clause = f\"adm0_iso3 = '{iso3}' and round = {round}\"\n",
    "elif iso3:\n",
    "    where_clause = f\"adm0_iso3 = '{iso3}'\"\n",
    "elif round:\n",
    "    where_clause = f\"round = {round}\"\n",
    "else:\n",
    "    where_clause = \"1=1\"  # Select all records if no filters are set"
   ]
  },
  {
   "cell_type": "code",
   "execution_count": 9,
   "metadata": {},
   "outputs": [
    {
     "name": "stdout",
     "output_type": "stream",
     "text": [
      "Processing the DIEM aggregated data (crop production thematic area) dataset.\n",
      "Saved the DIEM aggregated data (crop production thematic area) data in C:\\temp.\n",
      "\n",
      "Processing the DIEM aggregated data (food security thematic area) dataset.\n",
      "Saved the DIEM aggregated data (food security thematic area) data in C:\\temp.\n",
      "\n",
      "Processing the DIEM aggregated data (income, shocks and needs thematic areas) dataset.\n",
      "Saved the DIEM aggregated data (income, shocks and needs thematic areas) data in C:\\temp.\n",
      "\n",
      "Processing the DIEM aggregated data (livestock production thematic area) dataset.\n",
      "Saved the DIEM aggregated data (livestock production thematic area) data in C:\\temp.\n",
      "\n",
      "Process completed.\n"
     ]
    }
   ],
   "source": [
    "# Connect to the GIS\n",
    "gis = GIS('https://hqfao-hub.maps.arcgis.com', USERNAME, PASS)\n",
    "\n",
    "# List of predefined item IDs\n",
    "item_ids = [\n",
    "    '1b006938d6a344aeb5a309f69f3e344b',\n",
    "    'fbef5b1ef85840838166a6b4d359f9bb',\n",
    "    '499917f1518141209c2a6de55a79d991',\n",
    "    '71460258c059453d8eab2d7c56a7b0c5'\n",
    "]\n",
    "\n",
    "for item_id in item_ids:\n",
    "    group_item = gis.content.get(item_id)\n",
    "    print(f\"Processing the {group_item.title} dataset.\")\n",
    "    if return_geometry_in_aggregated_data:\n",
    "        subset_feature_layer_id = group_item.layers[0].properties.id\n",
    "        parameters = {\"layers\": [{\"id\": subset_feature_layer_id, \"where\": where_clause}]}\n",
    "        # Export the data with geometry included\n",
    "        result = group_item.export(\n",
    "            f'{group_item.title}_{formatted_datetime}', geometry_export_format, parameters=parameters\n",
    "        )\n",
    "        result.download(output_location)\n",
    "        result.delete()  # Clean up by deleting the export from AGOL\n",
    "        print(f\"Saved the {group_item.title} data in {output_location}.\\n\")\n",
    "    else:\n",
    "        subset_feature_layer = group_item.layers[0]\n",
    "        df = subset_feature_layer.query(\n",
    "            where=where_clause, out_fields=\"*\", returnGeometry=False, as_df=True\n",
    "        )\n",
    "        df = df.drop(columns=['SHAPE'], errors='ignore')  # Exclude the SHAPE field if it exists\n",
    "        df.to_csv(os.path.join(output_location, f\"{group_item.title}_{formatted_datetime}.csv\"))\n",
    "        print(f\"Saved the {group_item.title} data in {output_location}.\\n\")\n",
    "\n",
    "print(\"Process completed.\")"
   ]
  },
  {
   "cell_type": "code",
   "execution_count": null,
   "metadata": {},
   "outputs": [],
   "source": []
  }
 ],
 "metadata": {
  "interpreter": {
   "hash": "6021ae016671ea4ee51b821cf683f744f40429a54e6c6181c983710cf505a5e5"
  },
  "kernelspec": {
   "display_name": "ArcGISPro",
   "language": "Python",
   "name": "python3"
  },
  "language_info": {
   "file_extension": ".py",
   "name": "python",
   "version": "3"
  }
 },
 "nbformat": 4,
 "nbformat_minor": 2
}
