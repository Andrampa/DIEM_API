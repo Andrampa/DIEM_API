{
 "cells": [
  {
   "cell_type": "code",
   "execution_count": 1,
   "metadata": {},
   "outputs": [],
   "source": [
    "from arcgis.gis import GIS\n",
    "import os\n",
    "import datetime\n",
    "# Get the current date and time\n",
    "current_datetime = datetime.datetime.now()\n",
    "# Format the date and time as YYYYMMDDhhmmss\n",
    "formatted_datetime = current_datetime.strftime(\"%Y%m%d%H%M%S\")"
   ]
  },
  {
   "cell_type": "code",
   "execution_count": 2,
   "metadata": {},
   "outputs": [],
   "source": [
    "#login parameters:\n",
    "output_location = r'C:\\temp' #LOCATION WHERE OUTPUTS WILL BE SAVED\n",
    "USERNAME = '' #YOUR_DIEM_USERNAME\n",
    "PASS = ''# YOUR_PASSWORD\n",
    "#survey parameters:\n",
    "iso3 = ''#ISO3 OF THE COUNTRY - empty string for selecting all countries\n",
    "round = '' # DIEM SURVEY ROUND NUMBER (integer - empty string for selecting all rounds)"
   ]
  },
  {
   "cell_type": "code",
   "execution_count": 3,
   "metadata": {},
   "outputs": [],
   "source": [
    "# Initialize the where clause\n",
    "where_clause = \"1=1\"  # Default to select all records if both conditions are empty\n",
    "\n",
    "# Check the conditions and update the where clause accordingly\n",
    "if iso3 and round:\n",
    "    where_clause = f\"adm0_iso3 = '{iso3}' and round = {round}\"\n",
    "elif iso3:\n",
    "    where_clause = f\"adm0_iso3 = '{iso3}'\"\n",
    "elif round:\n",
    "    where_clause = f\"round = {round}\""
   ]
  },
  {
   "cell_type": "code",
   "execution_count": 4,
   "metadata": {},
   "outputs": [
    {
     "name": "stdout",
     "output_type": "stream",
     "text": [
      "Processing the DIEM aggregated data (crop production thematic area) dataset.\n",
      "Saved the DIEM aggregated data (crop production thematic area) data in C:\\temp .\n",
      "\n",
      "Processing the DIEM aggregated data (food security thematic area) dataset.\n",
      "Saved the DIEM aggregated data (food security thematic area) data in C:\\temp .\n",
      "\n",
      "Processing the DIEM aggregated data (income, shocks and needs thematic areas) dataset.\n",
      "Saved the DIEM aggregated data (income, shocks and needs thematic areas) data in C:\\temp .\n",
      "\n",
      "Processing the DIEM aggregated data (livestock production thematic area) dataset.\n",
      "Saved the DIEM aggregated data (livestock production thematic area) data in C:\\temp .\n",
      "\n",
      "Process completed\n"
     ]
    }
   ],
   "source": [
    "gis = GIS('https://hqfao-hub.maps.arcgis.com/home/group.html?id=4eca32aadf664a8f9a59d2dd68b7444d&view=list#content', USERNAME, PASS)\n",
    "# Get the group using the Group ID (From the group URL)\n",
    "group = gis.groups.get(\"4eca32aadf664a8f9a59d2dd68b7444d\")\n",
    "group_items = group.content()\n",
    "for group_item in group_items:\n",
    "    print(f\"Processing the {group_item.title} dataset.\")\n",
    "    subset_feature_layer = group_item.layers[0]\n",
    "    df = subset_feature_layer.query(where=where_clause, out_fields = \"*\", returnGeometry=False, as_df=True)\n",
    "    df.to_csv(os.path.join(output_location,group_item.title + \"_\" + formatted_datetime + \".csv\"))\n",
    "    print(f\"Saved the {group_item.title} data in {output_location} .\\n\")\n",
    "print(\"Process completed\")"
   ]
  },
  {
   "cell_type": "code",
   "execution_count": null,
   "metadata": {},
   "outputs": [],
   "source": []
  }
 ],
 "metadata": {
  "interpreter": {
   "hash": "6021ae016671ea4ee51b821cf683f744f40429a54e6c6181c983710cf505a5e5"
  },
  "kernelspec": {
   "display_name": "Python 3 (ipykernel)",
   "language": "python",
   "name": "python3"
  },
  "language_info": {
   "codemirror_mode": {
    "name": "ipython",
    "version": 3
   },
   "file_extension": ".py",
   "mimetype": "text/x-python",
   "name": "python",
   "nbconvert_exporter": "python",
   "pygments_lexer": "ipython3",
   "version": "3.9.18"
  }
 },
 "nbformat": 4,
 "nbformat_minor": 2
}
